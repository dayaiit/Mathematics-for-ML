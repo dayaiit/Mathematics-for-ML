{
  "nbformat": 4,
  "nbformat_minor": 0,
  "metadata": {
    "colab": {
      "provenance": [],
      "authorship_tag": "ABX9TyPv5EPKqWfUG2CdbJPOlyIo",
      "include_colab_link": true
    },
    "kernelspec": {
      "name": "python3",
      "display_name": "Python 3"
    },
    "language_info": {
      "name": "python"
    }
  },
  "cells": [
    {
      "cell_type": "markdown",
      "metadata": {
        "id": "view-in-github",
        "colab_type": "text"
      },
      "source": [
        "<a href=\"https://colab.research.google.com/github/dayaiit/test/blob/main/L6_MMLv1.ipynb\" target=\"_parent\"><img src=\"https://colab.research.google.com/assets/colab-badge.svg\" alt=\"Open In Colab\"/></a>"
      ]
    },
    {
      "cell_type": "code",
      "execution_count": 1,
      "metadata": {
        "id": "kGorpXIly7JK"
      },
      "outputs": [],
      "source": [
        "# Example 1: Representing Linear Mappings with Matrices\n",
        "# This example shows how linear transformations can be represented using matrices\n",
        "\n",
        "import numpy as np\n",
        "import matplotlib.pyplot as plt\n",
        "\n"
      ]
    },
    {
      "cell_type": "code",
      "source": [
        "# ---- PART 1: DEFINING A LINEAR TRANSFORMATION ----\n",
        "\n",
        "print(\"LINEAR TRANSFORMATIONS AND MATRICES\")\n",
        "print(\"A linear transformation is a special function that preserves:\")\n",
        "print(\"1. Addition: F(u + v) = F(u) + F(v)\")\n",
        "print(\"2. Scalar multiplication: F(cv) = cF(v)\")\n",
        "print()\n",
        "\n",
        "# Let's define a rotation transformation (90 degrees counterclockwise)\n",
        "def rotate_90(v):\n",
        "    \"\"\"Rotates a 2D vector 90 degrees counterclockwise\"\"\"\n",
        "    x, y = v\n",
        "    return np.array([-y, x])  # New coordinates after rotation\n",
        "\n",
        "# Create a test vector\n",
        "v = np.array([3, 1])\n",
        "print(f\"Original vector v = {v}\")\n",
        "\n",
        "# Apply the transformation\n",
        "rotated_v = rotate_90(v)\n",
        "print(f\"After 90° rotation: rotate_90(v) = {rotated_v}\")\n",
        "print()\n",
        "\n"
      ],
      "metadata": {
        "colab": {
          "base_uri": "https://localhost:8080/"
        },
        "id": "mcYBxzKmzQSb",
        "outputId": "d715de76-ff7b-4d95-8d8d-bfe310d8a2e2"
      },
      "execution_count": 2,
      "outputs": [
        {
          "output_type": "stream",
          "name": "stdout",
          "text": [
            "LINEAR TRANSFORMATIONS AND MATRICES\n",
            "A linear transformation is a special function that preserves:\n",
            "1. Addition: F(u + v) = F(u) + F(v)\n",
            "2. Scalar multiplication: F(cv) = cF(v)\n",
            "\n",
            "Original vector v = [3 1]\n",
            "After 90° rotation: rotate_90(v) = [-1  3]\n",
            "\n"
          ]
        }
      ]
    },
    {
      "cell_type": "code",
      "source": [
        "# ---- PART 2: MATRIX REPRESENTATION ----\n",
        "\n",
        "print(\"MATRIX REPRESENTATION OF THE ROTATION\")\n",
        "# To find the matrix representation, we find where the basis vectors go\n",
        "e1 = np.array([1, 0])  # First standard basis vector\n",
        "e2 = np.array([0, 1])  # Second standard basis vector\n",
        "\n",
        "# Apply the transformation to the basis vectors\n",
        "rotated_e1 = rotate_90(e1)\n",
        "rotated_e2 = rotate_90(e2)\n",
        "\n",
        "print(f\"Basis vector e1 = {e1} → rotate_90(e1) = {rotated_e1}\")\n",
        "print(f\"Basis vector e2 = {e2} → rotate_90(e2) = {rotated_e2}\")\n",
        "print()\n",
        "\n",
        "# Create the matrix using the transformed basis vectors as columns\n",
        "rotation_matrix = np.column_stack((rotated_e1, rotated_e2))\n",
        "print(\"Matrix representation of the 90° rotation:\")\n",
        "print(rotation_matrix)\n",
        "print()\n"
      ],
      "metadata": {
        "colab": {
          "base_uri": "https://localhost:8080/"
        },
        "id": "x7LEbizYzVRf",
        "outputId": "aefcf667-564a-4642-d2ba-4f0557fae809"
      },
      "execution_count": 3,
      "outputs": [
        {
          "output_type": "stream",
          "name": "stdout",
          "text": [
            "MATRIX REPRESENTATION OF THE ROTATION\n",
            "Basis vector e1 = [1 0] → rotate_90(e1) = [0 1]\n",
            "Basis vector e2 = [0 1] → rotate_90(e2) = [-1  0]\n",
            "\n",
            "Matrix representation of the 90° rotation:\n",
            "[[ 0 -1]\n",
            " [ 1  0]]\n",
            "\n"
          ]
        }
      ]
    },
    {
      "cell_type": "code",
      "source": [
        "\n",
        "# ---- PART 3: USING THE MATRIX FOR TRANSFORMATION ----\n",
        "\n",
        "print(\"USING THE MATRIX TO PERFORM THE TRANSFORMATION\")\n",
        "# To transform a vector using the matrix, we multiply: matrix @ vector\n",
        "matrix_result = rotation_matrix @ v\n",
        "print(f\"Using the function: rotate_90(v) = {rotated_v}\")\n",
        "print(f\"Using the matrix: rotation_matrix @ v = {matrix_result}\")\n",
        "print(f\"The results match: {np.array_equal(rotated_v, matrix_result)}\")\n",
        "print()\n"
      ],
      "metadata": {
        "colab": {
          "base_uri": "https://localhost:8080/"
        },
        "id": "dAJmDDylzbsw",
        "outputId": "5fde0096-74b8-4a9c-c772-14c0d9c9cbe7"
      },
      "execution_count": 4,
      "outputs": [
        {
          "output_type": "stream",
          "name": "stdout",
          "text": [
            "USING THE MATRIX TO PERFORM THE TRANSFORMATION\n",
            "Using the function: rotate_90(v) = [-1  3]\n",
            "Using the matrix: rotation_matrix @ v = [-1  3]\n",
            "The results match: True\n",
            "\n"
          ]
        }
      ]
    },
    {
      "cell_type": "code",
      "source": [
        "\n",
        "# ---- PART 4: VISUALIZATION ----\n",
        "\n",
        "# Create a figure\n",
        "plt.figure(figsize=(12, 5))\n",
        "\n",
        "# Plot 1: Original and transformed vector\n",
        "plt.subplot(1, 2, 1)\n",
        "plt.axhline(y=0, color='k', linestyle='-', alpha=0.3)\n",
        "plt.axvline(x=0, color='k', linestyle='-', alpha=0.3)\n",
        "\n",
        "# Plot original vector\n",
        "plt.arrow(0, 0, v[0], v[1], head_width=0.2, head_length=0.2, fc='blue', ec='blue', label='v')\n",
        "\n",
        "# Plot transformed vector\n",
        "plt.arrow(0, 0, rotated_v[0], rotated_v[1], head_width=0.2, head_length=0.2,\n",
        "          fc='red', ec='red', label='rotate_90(v)')\n",
        "\n",
        "# Plot basis vectors and their transformations\n",
        "plt.arrow(0, 0, e1[0], e1[1], head_width=0.1, head_length=0.1, fc='green', ec='green', label='e1')\n",
        "plt.arrow(0, 0, e2[0], e2[1], head_width=0.1, head_length=0.1, fc='purple', ec='purple', label='e2')\n",
        "plt.arrow(0, 0, rotated_e1[0], rotated_e1[1], head_width=0.1, head_length=0.1,\n",
        "          fc='lightgreen', ec='lightgreen', label='rotate_90(e1)')\n",
        "plt.arrow(0, 0, rotated_e2[0], rotated_e2[1], head_width=0.1, head_length=0.1,\n",
        "          fc='magenta', ec='magenta', label='rotate_90(e2)')\n",
        "\n",
        "plt.grid(True)\n",
        "plt.xlim(-4, 4)\n",
        "plt.ylim(-4, 4)\n",
        "plt.title('Vector and its Rotation')\n",
        "plt.xlabel('x')\n",
        "plt.ylabel('y')\n",
        "plt.legend()\n",
        "\n",
        "# Plot 2: Grid before and after transformation\n",
        "plt.subplot(1, 2, 2)\n",
        "plt.axhline(y=0, color='k', linestyle='-', alpha=0.3)\n",
        "plt.axvline(x=0, color='k', linestyle='-', alpha=0.3)\n",
        "\n",
        "# Create a grid of points\n",
        "x = np.linspace(-3, 3, 7)\n",
        "y = np.linspace(-3, 3, 7)\n",
        "X, Y = np.meshgrid(x, y)\n",
        "\n",
        "# Plot original grid\n",
        "plt.plot(X, Y, 'b-', alpha=0.3)\n",
        "plt.plot(X.T, Y.T, 'b-', alpha=0.3)\n",
        "\n",
        "# Transform each point in the grid\n",
        "X_transformed = -Y  # Apply the rotation transformation\n",
        "Y_transformed = X   # to each point in the grid\n",
        "\n",
        "# Plot transformed grid\n",
        "plt.plot(X_transformed, Y_transformed, 'r-', alpha=0.7)\n",
        "plt.plot(X_transformed.T, Y_transformed.T, 'r-', alpha=0.7)\n",
        "\n",
        "plt.grid(True)\n",
        "plt.xlim(-4, 4)\n",
        "plt.ylim(-4, 4)\n",
        "plt.title('Grid Before (Blue) and After (Red) Rotation')\n",
        "plt.xlabel('x')\n",
        "plt.ylabel('y')\n",
        "\n",
        "plt.tight_layout()\n",
        "plt.show()\n"
      ],
      "metadata": {
        "colab": {
          "base_uri": "https://localhost:8080/",
          "height": 507
        },
        "id": "Ziwnhm_KzlrJ",
        "outputId": "14c3443b-4167-4ec2-c94a-76e2599bb45d"
      },
      "execution_count": 5,
      "outputs": [
        {
          "output_type": "display_data",
          "data": {
            "text/plain": [
              "<Figure size 1200x500 with 2 Axes>"
            ],
            "image/png": "[encoded data removed]"
          },
          "metadata": {}
        }
      ]
    },
    {
      "cell_type": "code",
      "source": [
        "\n",
        "# ---- PART 5: ANOTHER EXAMPLE - SCALING TRANSFORMATION ----\n",
        "\n",
        "print(\"\\nSCALING TRANSFORMATION EXAMPLE\")\n",
        "# Define a scaling transformation: scale x by 2 and y by 0.5\n",
        "def scale(v):\n",
        "    \"\"\"Scales a 2D vector: x by 2 and y by 0.5\"\"\"\n",
        "    x, y = v\n",
        "    return np.array([2*x, 0.5*y])\n",
        "\n",
        "# Find the matrix representation\n",
        "scaled_e1 = scale(e1)\n",
        "scaled_e2 = scale(e2)\n",
        "\n",
        "print(f\"Basis vector e1 = {e1} → scale(e1) = {scaled_e1}\")\n",
        "print(f\"Basis vector e2 = {e2} → scale(e2) = {scaled_e2}\")\n",
        "\n",
        "scaling_matrix = np.column_stack((scaled_e1, scaled_e2))\n",
        "print(\"\\nMatrix representation of the scaling transformation:\")\n",
        "print(scaling_matrix)\n",
        "\n",
        "# Apply to our test vector\n",
        "scaled_v = scale(v)\n",
        "matrix_scaled_v = scaling_matrix @ v\n",
        "\n",
        "print(f\"\\nOriginal vector: v = {v}\")\n",
        "print(f\"Using the function: scale(v) = {scaled_v}\")\n",
        "print(f\"Using the matrix: scaling_matrix @ v = {matrix_scaled_v}\")\n",
        "print(f\"The results match: {np.array_equal(scaled_v, matrix_scaled_v)}\")\n",
        "\n",
        "# ---- EXERCISES FOR STUDENTS ----\n",
        "\n",
        "print(\"\\nEXERCISES FOR STUDENTS:\")\n",
        "print(\"1. Create a matrix that represents a reflection across the x-axis (flipping the y-coordinate).\")\n",
        "print(\"2. Create a matrix for a shear transformation: F(x, y) = (x + y, y).\")\n",
        "print(\"3. What is the matrix for a 180° rotation? Verify it works on a test vector.\")\n",
        "print(\"4. Compose two transformations: First rotate by 90°, then scale. What is the matrix\")\n",
        "print(\"   for this combined transformation? Hint: If matrices are A and B, the composition is B@A.\")"
      ],
      "metadata": {
        "colab": {
          "base_uri": "https://localhost:8080/"
        },
        "id": "cEukWCkazqyt",
        "outputId": "ed39dabb-45ce-4288-f07e-6b80642f10f7"
      },
      "execution_count": 6,
      "outputs": [
        {
          "output_type": "stream",
          "name": "stdout",
          "text": [
            "\n",
            "SCALING TRANSFORMATION EXAMPLE\n",
            "Basis vector e1 = [1 0] → scale(e1) = [2. 0.]\n",
            "Basis vector e2 = [0 1] → scale(e2) = [0.  0.5]\n",
            "\n",
            "Matrix representation of the scaling transformation:\n",
            "[[2.  0. ]\n",
            " [0.  0.5]]\n",
            "\n",
            "Original vector: v = [3 1]\n",
            "Using the function: scale(v) = [6.  0.5]\n",
            "Using the matrix: scaling_matrix @ v = [6.  0.5]\n",
            "The results match: True\n",
            "\n",
            "EXERCISES FOR STUDENTS:\n",
            "1. Create a matrix that represents a reflection across the x-axis (flipping the y-coordinate).\n",
            "2. Create a matrix for a shear transformation: F(x, y) = (x + y, y).\n",
            "3. What is the matrix for a 180° rotation? Verify it works on a test vector.\n",
            "4. Compose two transformations: First rotate by 90°, then scale. What is the matrix\n",
            "   for this combined transformation? Hint: If matrices are A and B, the composition is B@A.\n"
          ]
        }
      ]
    },
    {
      "cell_type": "code",
      "source": [
        "# Example 2: Change of Basis\n",
        "# This example shows how to convert coordinates between different bases\n",
        "\n",
        "import numpy as np\n",
        "import matplotlib.pyplot as plt\n",
        "\n",
        "# ---- PART 1: INTRODUCTION TO BASES ----\n",
        "\n",
        "print(\"CHANGE OF BASIS\")\n",
        "print(\"A basis is a set of vectors we use to express coordinates in a vector space.\")\n",
        "print(\"The standard basis in R² is {e1 = (1,0), e2 = (0,1)}\")\n",
        "print(\"But we can choose different basis vectors!\")\n",
        "print()\n",
        "\n",
        "# Define the standard basis vectors\n",
        "e1 = np.array([1, 0])\n",
        "e2 = np.array([0, 1])\n",
        "\n",
        "# Define a new basis\n",
        "u1 = np.array([1, 1])   # First basis vector\n",
        "u2 = np.array([1, -1])  # Second basis vector\n",
        "\n",
        "print(f\"Standard basis: e1 = {e1}, e2 = {e2}\")\n",
        "print(f\"New basis: u1 = {u1}, u2 = {u2}\")\n",
        "print()\n"
      ],
      "metadata": {
        "colab": {
          "base_uri": "https://localhost:8080/"
        },
        "id": "GIWkM9fozwl1",
        "outputId": "acd8f20f-cc6b-4729-9bbd-2b1a816dcd48"
      },
      "execution_count": 7,
      "outputs": [
        {
          "output_type": "stream",
          "name": "stdout",
          "text": [
            "CHANGE OF BASIS\n",
            "A basis is a set of vectors we use to express coordinates in a vector space.\n",
            "The standard basis in R² is {e1 = (1,0), e2 = (0,1)}\n",
            "But we can choose different basis vectors!\n",
            "\n",
            "Standard basis: e1 = [1 0], e2 = [0 1]\n",
            "New basis: u1 = [1 1], u2 = [ 1 -1]\n",
            "\n"
          ]
        }
      ]
    },
    {
      "cell_type": "code",
      "source": [
        "\n",
        "# ---- PART 2: FINDING THE CHANGE-OF-BASIS MATRIX ----\n",
        "\n",
        "print(\"FINDING THE CHANGE-OF-BASIS MATRIX\")\n",
        "print(\"The change-of-basis matrix P from standard basis to the new basis\")\n",
        "print(\"has the new basis vectors as its columns:\")\n",
        "print()\n",
        "\n",
        "# Create the change-of-basis matrix\n",
        "P = np.column_stack((u1, u2))\n",
        "print(\"Change-of-basis matrix P (from standard to new basis):\")\n",
        "print(P)\n",
        "print()\n",
        "\n",
        "# Find the inverse of P\n",
        "P_inv = np.linalg.inv(P)\n",
        "print(\"Inverse of P (from new basis to standard):\")\n",
        "print(P_inv)\n",
        "print()\n"
      ],
      "metadata": {
        "colab": {
          "base_uri": "https://localhost:8080/"
        },
        "id": "96p5r4Bzz3b8",
        "outputId": "a0b85864-151f-4806-8502-27419e747ca8"
      },
      "execution_count": 8,
      "outputs": [
        {
          "output_type": "stream",
          "name": "stdout",
          "text": [
            "FINDING THE CHANGE-OF-BASIS MATRIX\n",
            "The change-of-basis matrix P from standard basis to the new basis\n",
            "has the new basis vectors as its columns:\n",
            "\n",
            "Change-of-basis matrix P (from standard to new basis):\n",
            "[[ 1  1]\n",
            " [ 1 -1]]\n",
            "\n",
            "Inverse of P (from new basis to standard):\n",
            "[[ 0.5  0.5]\n",
            " [ 0.5 -0.5]]\n",
            "\n"
          ]
        }
      ]
    },
    {
      "cell_type": "code",
      "source": [
        "\n",
        "# ---- PART 3: CONVERTING COORDINATES BETWEEN BASES ----\n",
        "\n",
        "print(\"CONVERTING COORDINATES BETWEEN BASES\")\n",
        "# Define a vector in standard coordinates\n",
        "v_standard = np.array([3, 2])\n",
        "print(f\"Vector v in standard coordinates: {v_standard}\")\n",
        "\n",
        "# Convert to new basis coordinates using P⁻¹\n",
        "v_new_basis = P_inv @ v_standard\n",
        "print(f\"Vector v in new basis coordinates: {v_new_basis}\")\n",
        "print()\n",
        "\n",
        "# Verify by converting back to standard coordinates\n",
        "v_standard_again = P @ v_new_basis\n",
        "print(f\"Converting back to standard: {v_standard_again}\")\n",
        "print(f\"Matches original: {np.allclose(v_standard, v_standard_again)}\")\n",
        "print()\n"
      ],
      "metadata": {
        "colab": {
          "base_uri": "https://localhost:8080/"
        },
        "id": "idZ8R3hbz77b",
        "outputId": "4ac90045-efb8-4f4e-ac56-2c3b6d275e25"
      },
      "execution_count": 9,
      "outputs": [
        {
          "output_type": "stream",
          "name": "stdout",
          "text": [
            "CONVERTING COORDINATES BETWEEN BASES\n",
            "Vector v in standard coordinates: [3 2]\n",
            "Vector v in new basis coordinates: [2.5 0.5]\n",
            "\n",
            "Converting back to standard: [3. 2.]\n",
            "Matches original: True\n",
            "\n"
          ]
        }
      ]
    },
    {
      "cell_type": "code",
      "source": [
        "\n",
        "# ---- PART 4: UNDERSTANDING THE CONVERSION GEOMETRICALLY ----\n",
        "\n",
        "print(\"UNDERSTANDING THE CONVERSION GEOMETRICALLY\")\n",
        "print(\"The vector v = (3,2) in standard coordinates equals:\")\n",
        "print(f\"{v_new_basis[0]:.2f} * {u1} + {v_new_basis[1]:.2f} * {u2}\")\n",
        "print()\n",
        "\n",
        "# Verify this calculation\n",
        "calculated_v = v_new_basis[0] * u1 + v_new_basis[1] * u2\n",
        "print(f\"Calculated v = {calculated_v}\")\n",
        "print(f\"Original v = {v_standard}\")\n",
        "print(f\"They match: {np.allclose(calculated_v, v_standard)}\")\n",
        "print()\n"
      ],
      "metadata": {
        "colab": {
          "base_uri": "https://localhost:8080/"
        },
        "id": "DMr5YgX10ARi",
        "outputId": "45511b7d-168a-4793-e85b-2e9d336d2a1a"
      },
      "execution_count": 10,
      "outputs": [
        {
          "output_type": "stream",
          "name": "stdout",
          "text": [
            "UNDERSTANDING THE CONVERSION GEOMETRICALLY\n",
            "The vector v = (3,2) in standard coordinates equals:\n",
            "2.50 * [1 1] + 0.50 * [ 1 -1]\n",
            "\n",
            "Calculated v = [3. 2.]\n",
            "Original v = [3 2]\n",
            "They match: True\n",
            "\n"
          ]
        }
      ]
    },
    {
      "cell_type": "code",
      "source": [
        "\n",
        "# ---- PART 5: VISUALIZATION ----\n",
        "\n",
        "# Create a figure\n",
        "plt.figure(figsize=(12, 5))\n",
        "\n",
        "# Plot 1: The two bases\n",
        "plt.subplot(1, 2, 1)\n",
        "plt.axhline(y=0, color='k', linestyle='-', alpha=0.3)\n",
        "plt.axvline(x=0, color='k', linestyle='-', alpha=0.3)\n",
        "\n",
        "# Plot standard basis vectors\n",
        "plt.arrow(0, 0, e1[0], e1[1], head_width=0.1, head_length=0.1, fc='blue', ec='blue', label='e1')\n",
        "plt.arrow(0, 0, e2[0], e2[1], head_width=0.1, head_length=0.1, fc='green', ec='green', label='e2')\n",
        "\n",
        "# Plot new basis vectors\n",
        "plt.arrow(0, 0, u1[0], u1[1], head_width=0.1, head_length=0.1, fc='red', ec='red', label='u1')\n",
        "plt.arrow(0, 0, u2[0], u2[1], head_width=0.1, head_length=0.1, fc='purple', ec='purple', label='u2')\n",
        "\n",
        "# Plot the vector v\n",
        "plt.arrow(0, 0, v_standard[0], v_standard[1], head_width=0.1, head_length=0.1,\n",
        "          fc='black', ec='black', label='v = (3,2)')\n",
        "\n",
        "plt.grid(True)\n",
        "plt.xlim(-2, 4)\n",
        "plt.ylim(-2, 4)\n",
        "plt.title('Standard Basis and New Basis')\n",
        "plt.xlabel('x')\n",
        "plt.ylabel('y')\n",
        "plt.legend()\n",
        "\n",
        "# Plot 2: The vector in terms of the new basis\n",
        "plt.subplot(1, 2, 2)\n",
        "plt.axhline(y=0, color='k', linestyle='-', alpha=0.3)\n",
        "plt.axvline(x=0, color='k', linestyle='-', alpha=0.3)\n",
        "\n",
        "# Plot new basis vectors\n",
        "plt.arrow(0, 0, u1[0], u1[1], head_width=0.1, head_length=0.1, fc='red', ec='red', label='u1')\n",
        "plt.arrow(0, 0, u2[0], u2[1], head_width=0.1, head_length=0.1, fc='purple', ec='purple', label='u2')\n",
        "\n",
        "# Plot the vector v\n",
        "plt.arrow(0, 0, v_standard[0], v_standard[1], head_width=0.1, head_length=0.1,\n",
        "          fc='black', ec='black', label='v = (3,2)')\n",
        "\n",
        "# Plot the components in the new basis\n",
        "scaled_u1 = v_new_basis[0] * u1\n",
        "scaled_u2 = v_new_basis[1] * u2\n",
        "\n",
        "plt.arrow(0, 0, scaled_u1[0], scaled_u1[1], head_width=0.1, head_length=0.1,\n",
        "          fc='orange', ec='orange', linestyle='dashed',\n",
        "          label=f'{v_new_basis[0]:.2f} * u1')\n",
        "plt.arrow(scaled_u1[0], scaled_u1[1], scaled_u2[0], scaled_u2[1], head_width=0.1, head_length=0.1,\n",
        "          fc='cyan', ec='cyan', linestyle='dashed',\n",
        "          label=f'{v_new_basis[1]:.2f} * u2')\n",
        "\n",
        "plt.grid(True)\n",
        "plt.xlim(-2, 4)\n",
        "plt.ylim(-2, 4)\n",
        "plt.title('Vector expressed in New Basis')\n",
        "plt.xlabel('x')\n",
        "plt.ylabel('y')\n",
        "plt.legend()\n",
        "\n",
        "plt.tight_layout()\n",
        "plt.show()\n"
      ],
      "metadata": {
        "colab": {
          "base_uri": "https://localhost:8080/",
          "height": 507
        },
        "id": "MVB3rPo30Emi",
        "outputId": "5f363c7f-8668-40a5-99ad-086ad9819ca4"
      },
      "execution_count": 11,
      "outputs": [
        {
          "output_type": "display_data",
          "data": {
            "text/plain": [
              "<Figure size 1200x500 with 2 Axes>"
            ],
            "image/png": "[encoded data removed]"
          },
          "metadata": {}
        }
      ]
    },
    {
      "cell_type": "code",
      "source": [
        "\n",
        "# ---- PART 6: LINEAR TRANSFORMATION IN DIFFERENT BASES ----\n",
        "\n",
        "print(\"\\nLINEAR TRANSFORMATION IN DIFFERENT BASES\")\n",
        "print(\"We'll use a 90° rotation transformation and represent it in both bases.\")\n",
        "print()\n",
        "\n",
        "# Define the rotation matrix in the standard basis\n",
        "A_standard = np.array([[0, -1], [1, 0]])\n",
        "print(\"Rotation matrix in standard basis:\")\n",
        "print(A_standard)\n",
        "print()\n",
        "\n",
        "# Calculate the rotation matrix in the new basis\n",
        "A_new = P_inv @ A_standard @ P\n",
        "print(\"Rotation matrix in the new basis:\")\n",
        "print(A_new)\n",
        "print()\n",
        "\n",
        "# Demonstrate that both matrices represent the same transformation\n",
        "# Apply the transformation to v in standard coordinates\n",
        "v_rotated_standard = A_standard @ v_standard\n",
        "print(f\"Rotated v (standard basis): {v_rotated_standard}\")\n",
        "\n",
        "# Apply the transformation to v in new basis coordinates\n",
        "v_new_rotated = A_new @ v_new_basis\n",
        "v_rotated_from_new = P @ v_new_rotated\n",
        "print(f\"Rotated v (via new basis): {v_rotated_from_new}\")\n",
        "\n",
        "print(f\"The results match: {np.allclose(v_rotated_standard, v_rotated_from_new)}\")\n",
        "print()\n",
        "\n",
        "print(\"This demonstrates a fundamental concept:\")\n",
        "print(\"P⁻¹AP gives the matrix representation of the same linear transformation\")\n",
        "print(\"but in a different basis.\")\n",
        "\n",
        "# ---- EXERCISES FOR STUDENTS ----\n",
        "\n",
        "print(\"\\nEXERCISES FOR STUDENTS:\")\n",
        "print(\"1. Choose a different basis, such as {(2,1), (1,3)}, and find the change-of-basis matrix.\")\n",
        "print(\"2. Express the vector (5,7) in the basis {(2,1), (1,3)}.\")\n",
        "print(\"3. Find the matrix for a reflection across the y-axis in the basis {(1,1), (1,-1)}.\")\n",
        "print(\"4. Prove that changing to a basis of eigenvectors makes a transformation matrix diagonal.\")"
      ],
      "metadata": {
        "colab": {
          "base_uri": "https://localhost:8080/"
        },
        "id": "afjfkNlc0JqR",
        "outputId": "cea9eea3-7e8e-4f8a-8e40-23a3f396eb81"
      },
      "execution_count": 12,
      "outputs": [
        {
          "output_type": "stream",
          "name": "stdout",
          "text": [
            "\n",
            "LINEAR TRANSFORMATION IN DIFFERENT BASES\n",
            "We'll use a 90° rotation transformation and represent it in both bases.\n",
            "\n",
            "Rotation matrix in standard basis:\n",
            "[[ 0 -1]\n",
            " [ 1  0]]\n",
            "\n",
            "Rotation matrix in the new basis:\n",
            "[[ 0.  1.]\n",
            " [-1.  0.]]\n",
            "\n",
            "Rotated v (standard basis): [-2  3]\n",
            "Rotated v (via new basis): [-2.  3.]\n",
            "The results match: True\n",
            "\n",
            "This demonstrates a fundamental concept:\n",
            "P⁻¹AP gives the matrix representation of the same linear transformation\n",
            "but in a different basis.\n",
            "\n",
            "EXERCISES FOR STUDENTS:\n",
            "1. Choose a different basis, such as {(2,1), (1,3)}, and find the change-of-basis matrix.\n",
            "2. Express the vector (5,7) in the basis {(2,1), (1,3)}.\n",
            "3. Find the matrix for a reflection across the y-axis in the basis {(1,1), (1,-1)}.\n",
            "4. Prove that changing to a basis of eigenvectors makes a transformation matrix diagonal.\n"
          ]
        }
      ]
    }
  ]
}