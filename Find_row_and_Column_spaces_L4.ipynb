{
  "nbformat": 4,
  "nbformat_minor": 0,
  "metadata": {
    "colab": {
      "provenance": [],
      "authorship_tag": "ABX9TyPhjWkPLMJgnn848504Q2s/",
      "include_colab_link": true
    },
    "kernelspec": {
      "name": "python3",
      "display_name": "Python 3"
    },
    "language_info": {
      "name": "python"
    }
  },
  "cells": [
    {
      "cell_type": "markdown",
      "metadata": {
        "id": "view-in-github",
        "colab_type": "text"
      },
      "source": [
        "<a href=\"https://colab.research.google.com/github/dayaiit/Mathematics-for-ML/blob/main/Find_row_and_Column_spaces_L4.ipynb\" target=\"_parent\"><img src=\"https://colab.research.google.com/assets/colab-badge.svg\" alt=\"Open In Colab\"/></a>"
      ]
    },
    {
      "cell_type": "code",
      "execution_count": 1,
      "metadata": {
        "id": "P0M5TYg6xzxb"
      },
      "outputs": [],
      "source": [
        "import numpy as np\n",
        "from sympy import Matrix\n",
        "\n",
        "# Define the matrix A\n",
        "A = Matrix([[1, 2, 3],\n",
        "            [4, 5, 6]])\n",
        "\n"
      ]
    },
    {
      "cell_type": "code",
      "source": [
        "# Find Row Space\n",
        "print(\"Row Space Basis (Echelon Form):\")\n",
        "row_echelon = A.rref()[0]\n",
        "display(row_echelon)  # Nonzero rows are the basis\n"
      ],
      "metadata": {
        "colab": {
          "base_uri": "https://localhost:8080/",
          "height": 76
        },
        "id": "A35QqFj0x3fv",
        "outputId": "c05c315a-ef4e-43f9-ce28-43f0a98b40af"
      },
      "execution_count": 2,
      "outputs": [
        {
          "output_type": "stream",
          "name": "stdout",
          "text": [
            "Row Space Basis (Echelon Form):\n"
          ]
        },
        {
          "output_type": "display_data",
          "data": {
            "text/plain": [
              "Matrix([\n",
              "[1, 0, -1],\n",
              "[0, 1,  2]])"
            ],
            "text/latex": "$\\displaystyle \\left[\\begin{matrix}1 & 0 & -1\\\\0 & 1 & 2\\end{matrix}\\right]$"
          },
          "metadata": {}
        }
      ]
    },
    {
      "cell_type": "code",
      "source": [
        "\n",
        "# Find Column Space\n",
        "print(\"\\nColumn Space Basis (Pivot Columns):\")\n",
        "pivot_cols = A.rref()[1]  # Indices of pivot columns\n",
        "col_basis = [A[:, col] for col in pivot_cols]\n",
        "display(col_basis)"
      ],
      "metadata": {
        "colab": {
          "base_uri": "https://localhost:8080/",
          "height": 162
        },
        "id": "P9EMJdlZx5Ln",
        "outputId": "752615b8-3967-4a45-8b1e-0bd173d35a4a"
      },
      "execution_count": 3,
      "outputs": [
        {
          "output_type": "stream",
          "name": "stdout",
          "text": [
            "\n",
            "Column Space Basis (Pivot Columns):\n"
          ]
        },
        {
          "output_type": "display_data",
          "data": {
            "text/plain": [
              "[Matrix([\n",
              " [1],\n",
              " [4]]),\n",
              " Matrix([\n",
              " [2],\n",
              " [5]])]"
            ]
          },
          "metadata": {}
        }
      ]
    }
  ]
}