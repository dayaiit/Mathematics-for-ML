{
  "nbformat": 4,
  "nbformat_minor": 0,
  "metadata": {
    "colab": {
      "provenance": [],
      "authorship_tag": "ABX9TyMqtGdiqzDazZ9ZtZFK49bH",
      "include_colab_link": true
    },
    "kernelspec": {
      "name": "python3",
      "display_name": "Python 3"
    },
    "language_info": {
      "name": "python"
    }
  },
  "cells": [
    {
      "cell_type": "markdown",
      "metadata": {
        "id": "view-in-github",
        "colab_type": "text"
      },
      "source": [
        "<a href=\"https://colab.research.google.com/github/dayaiit/Mathematics-for-ML/blob/main/Practish_L4.ipynb\" target=\"_parent\"><img src=\"https://colab.research.google.com/assets/colab-badge.svg\" alt=\"Open In Colab\"/></a>"
      ]
    },
    {
      "cell_type": "code",
      "execution_count": 1,
      "metadata": {
        "id": "EhtV-Yxj2465"
      },
      "outputs": [],
      "source": [
        "import numpy as np\n",
        "from sympy import Matrix, symbols\n",
        "\n"
      ]
    },
    {
      "cell_type": "code",
      "source": [
        "# 1. Budget/Resource Operations (Example 1)\n",
        "jan = np.array([200, 500, 100, 50])\n",
        "feb = np.array([250, 500, 150, 80])\n",
        "print(\"Total Expenses:\", jan + feb)\n",
        "print(\"2.5 × January:\", 2.5 * jan)\n",
        "\n"
      ],
      "metadata": {
        "colab": {
          "base_uri": "https://localhost:8080/"
        },
        "id": "ZXeoXR7h29hC",
        "outputId": "7d1a16ca-9700-4f56-efca-2d7433b640c5"
      },
      "execution_count": 2,
      "outputs": [
        {
          "output_type": "stream",
          "name": "stdout",
          "text": [
            "Total Expenses: [ 450 1000  250  130]\n",
            "2.5 × January: [ 500. 1250.  250.  125.]\n"
          ]
        }
      ]
    },
    {
      "cell_type": "code",
      "source": [
        "# 3. Polynomial Operations (Example 1)\n",
        "t = symbols('t')\n",
        "p = 2 + 3*t - t**2\n",
        "q = -1 + 4*t + 5*t**2\n",
        "print(\"p + q =\", p + q)\n",
        "print(\"2p =\", 2*p)\n",
        "\n"
      ],
      "metadata": {
        "colab": {
          "base_uri": "https://localhost:8080/"
        },
        "id": "-QMDJtLP3BVx",
        "outputId": "408d0ad7-c2aa-4c61-9232-81f379dfa24e"
      },
      "execution_count": 3,
      "outputs": [
        {
          "output_type": "stream",
          "name": "stdout",
          "text": [
            "p + q = 4*t**2 + 7*t + 1\n",
            "2p = -2*t**2 + 6*t + 4\n"
          ]
        }
      ]
    },
    {
      "cell_type": "code",
      "source": [
        "# 4. Linear Combination (Problem 1)\n",
        "A = Matrix([[1, 3, 5], [2, 4, 6]])  # Columns: u1, u2, v\n",
        "print(\"Coefficients:\", A.rref()[0])\n",
        "\n"
      ],
      "metadata": {
        "colab": {
          "base_uri": "https://localhost:8080/"
        },
        "id": "PWiR437F3DYJ",
        "outputId": "fb32cd7a-1a8b-44a2-fabb-a6fd5f7b191a"
      },
      "execution_count": 4,
      "outputs": [
        {
          "output_type": "stream",
          "name": "stdout",
          "text": [
            "Coefficients: Matrix([[1, 0, -1], [0, 1, 2]])\n"
          ]
        }
      ]
    },
    {
      "cell_type": "code",
      "source": [
        "# 7. Linear Dependence (Problem 1)\n",
        "vectors = Matrix([[1, 2, 0], [0, 1, 1], [1, 3, -1]]).T\n",
        "print(\"Are vectors dependent?\", vectors.rank() < 3)\n",
        "\n"
      ],
      "metadata": {
        "colab": {
          "base_uri": "https://localhost:8080/"
        },
        "id": "ZAvP-2HK3E8R",
        "outputId": "0b8a92c9-29e7-48a6-898a-5c8d132964d9"
      },
      "execution_count": 5,
      "outputs": [
        {
          "output_type": "stream",
          "name": "stdout",
          "text": [
            "Are vectors dependent? False\n"
          ]
        }
      ]
    },
    {
      "cell_type": "code",
      "source": [
        "# 8. Basis Check (Problem 2)\n",
        "A = Matrix([[1, 1, 0], [1, 0, 1], [1, 1, 0]])\n",
        "print(\"Is it a basis?\", A.rank() == 3)"
      ],
      "metadata": {
        "colab": {
          "base_uri": "https://localhost:8080/"
        },
        "id": "rsOlPRkQ3GbT",
        "outputId": "328141c6-0f2b-4e03-9b20-0dd1cfad4d6a"
      },
      "execution_count": 6,
      "outputs": [
        {
          "output_type": "stream",
          "name": "stdout",
          "text": [
            "Is it a basis? False\n"
          ]
        }
      ]
    }
  ]
}