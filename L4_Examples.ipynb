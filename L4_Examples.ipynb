{
  "nbformat": 4,
  "nbformat_minor": 0,
  "metadata": {
    "colab": {
      "provenance": [],
      "authorship_tag": "ABX9TyO+0iCfL76MpP7YX1iWntRC",
      "include_colab_link": true
    },
    "kernelspec": {
      "name": "python3",
      "display_name": "Python 3"
    },
    "language_info": {
      "name": "python"
    }
  },
  "cells": [
    {
      "cell_type": "markdown",
      "metadata": {
        "id": "view-in-github",
        "colab_type": "text"
      },
      "source": [
        "<a href=\"https://colab.research.google.com/github/dayaiit/Mathematics-for-ML/blob/main/L4_Examples.ipynb\" target=\"_parent\"><img src=\"https://colab.research.google.com/assets/colab-badge.svg\" alt=\"Open In Colab\"/></a>"
      ]
    },
    {
      "cell_type": "code",
      "execution_count": 1,
      "metadata": {
        "id": "hU_3f02e07uY"
      },
      "outputs": [],
      "source": [
        "import numpy as np\n",
        "from sympy import Matrix, symbols, expand\n",
        "\n"
      ]
    },
    {
      "cell_type": "code",
      "source": [
        "# Example 1: Vector Space Operations (Budget)\n",
        "january = np.array([300, 800, 150, 100])\n",
        "february = np.array([350, 800, 200, 150])\n",
        "print(\"Total Expenses:\", january + february)\n",
        "print(\"3x January:\", 3 * january)\n",
        "\n"
      ],
      "metadata": {
        "colab": {
          "base_uri": "https://localhost:8080/"
        },
        "id": "HfWwobxi1Azo",
        "outputId": "7b44f6db-6faf-47a4-cf96-1bd382bdf87c"
      },
      "execution_count": 2,
      "outputs": [
        {
          "output_type": "stream",
          "name": "stdout",
          "text": [
            "Total Expenses: [ 650 1600  350  250]\n",
            "3x January: [ 900 2400  450  300]\n"
          ]
        }
      ]
    },
    {
      "cell_type": "code",
      "source": [
        "# Example 2: Subspace Test\n",
        "def is_subspace(vectors):\n",
        "    A = Matrix(vectors)\n",
        "    return A.rank() == len(vectors[0]) - 1  # Adjust based on subspace criteria\n",
        "\n",
        "vectors = [[1, 1], [2, 2]]  # All vectors (a, a) in R²\n",
        "print(\"\\nIs subspace?\", is_subspace(vectors))\n",
        "\n"
      ],
      "metadata": {
        "colab": {
          "base_uri": "https://localhost:8080/"
        },
        "id": "_TarBJzq1DXP",
        "outputId": "66779e3c-70dc-4a37-e718-e9d5c753890c"
      },
      "execution_count": 3,
      "outputs": [
        {
          "output_type": "stream",
          "name": "stdout",
          "text": [
            "\n",
            "Is subspace? True\n"
          ]
        }
      ]
    },
    {
      "cell_type": "code",
      "source": [
        "# Example 3: Linear Combination\n",
        "A = Matrix([[1, 2, 7], [1, -1, 4]])  # Augmented matrix [u1 u2 | v]\n",
        "print(\"\\nSolution for coefficients:\", A.rref()[0])\n",
        "\n"
      ],
      "metadata": {
        "colab": {
          "base_uri": "https://localhost:8080/"
        },
        "id": "BauV2n661Fen",
        "outputId": "e224524d-462d-4f5c-aed4-07699058e2d3"
      },
      "execution_count": 4,
      "outputs": [
        {
          "output_type": "stream",
          "name": "stdout",
          "text": [
            "\n",
            "Solution for coefficients: Matrix([[1, 0, 5], [0, 1, 1]])\n"
          ]
        }
      ]
    },
    {
      "cell_type": "code",
      "source": [
        "# Example 4: Linear Dependence\n",
        "vectors = Matrix([[1, 3, 5], [2, 4, 6]]).T  # Columns: v1, v2, v3\n",
        "print(\"\\nAre vectors dependent?\", vectors.rank() < 3)\n"
      ],
      "metadata": {
        "colab": {
          "base_uri": "https://localhost:8080/"
        },
        "id": "BQa9Klao1IDb",
        "outputId": "92c4c630-e269-4edd-b7c7-2f159aad9120"
      },
      "execution_count": 5,
      "outputs": [
        {
          "output_type": "stream",
          "name": "stdout",
          "text": [
            "\n",
            "Are vectors dependent? True\n"
          ]
        }
      ]
    },
    {
      "cell_type": "code",
      "source": [
        "# Example 5: Polynomial Basis\n",
        "t = symbols('t')\n",
        "basis = [1, t, t**2]\n",
        "polynomial = 3*1 + 2*t - 5*t**2\n",
        "print(\"\\nPolynomial in basis:\", expand(polynomial))"
      ],
      "metadata": {
        "colab": {
          "base_uri": "https://localhost:8080/"
        },
        "id": "_i1Q6SUj1J-8",
        "outputId": "d8c1ce71-c565-46b9-f8b3-3f07ab69234b"
      },
      "execution_count": 6,
      "outputs": [
        {
          "output_type": "stream",
          "name": "stdout",
          "text": [
            "\n",
            "Polynomial in basis: -5*t**2 + 2*t + 3\n"
          ]
        }
      ]
    }
  ]
}