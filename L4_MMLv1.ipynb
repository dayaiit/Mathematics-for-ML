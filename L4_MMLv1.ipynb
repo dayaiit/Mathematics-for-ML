{
  "nbformat": 4,
  "nbformat_minor": 0,
  "metadata": {
    "colab": {
      "provenance": [],
      "authorship_tag": "ABX9TyP7KagCOvc9zILbn5gLOAEr",
      "include_colab_link": true
    },
    "kernelspec": {
      "name": "python3",
      "display_name": "Python 3"
    },
    "language_info": {
      "name": "python"
    }
  },
  "cells": [
    {
      "cell_type": "markdown",
      "metadata": {
        "id": "view-in-github",
        "colab_type": "text"
      },
      "source": [
        "<a href=\"https://colab.research.google.com/github/dayaiit/test/blob/main/L4_MMLv1.ipynb\" target=\"_parent\"><img src=\"https://colab.research.google.com/assets/colab-badge.svg\" alt=\"Open In Colab\"/></a>"
      ]
    },
    {
      "cell_type": "code",
      "execution_count": 1,
      "metadata": {
        "colab": {
          "base_uri": "https://localhost:8080/"
        },
        "id": "9lgoIjbTmlap",
        "outputId": "208b1a62-7720-4665-b4da-ef657842318c"
      },
      "outputs": [
        {
          "output_type": "stream",
          "name": "stdout",
          "text": [
            "Vector v = [1 2 3]\n",
            "Vector w = [4 5 6]\n",
            "\n",
            "Vector addition (v + w) = [5 7 9]\n",
            "Scalar multiplication (2 * v) = [2 4 6]\n",
            "\n"
          ]
        }
      ],
      "source": [
        "# Example 1: Vector Space Operations\n",
        "# This example demonstrates basic vector operations and vector space axioms\n",
        "\n",
        "import numpy as np\n",
        "import matplotlib.pyplot as plt\n",
        "\n",
        "# ---- PART 1: BASIC VECTOR OPERATIONS ----\n",
        "\n",
        "# Creating vectors in R^3 (3-dimensional real vector space)\n",
        "v = np.array([1, 2, 3])\n",
        "w = np.array([4, 5, 6])\n",
        "print(\"Vector v =\", v)\n",
        "print(\"Vector w =\", w)\n",
        "print()\n",
        "\n",
        "# Vector addition\n",
        "sum_vw = v + w\n",
        "print(\"Vector addition (v + w) =\", sum_vw)\n",
        "\n",
        "# Scalar multiplication\n",
        "k = 2\n",
        "k_times_v = k * v\n",
        "print(f\"Scalar multiplication ({k} * v) =\", k_times_v)\n",
        "print()\n"
      ]
    },
    {
      "cell_type": "code",
      "source": [
        "# ---- PART 2: VERIFYING VECTOR SPACE AXIOMS ----\n",
        "print(\"Verifying some vector space axioms:\")\n",
        "\n",
        "# A1: Associativity of vector addition\n",
        "# (u + v) + w = u + (v + w)\n",
        "u = np.array([7, 8, 9])\n",
        "result1 = (u + v) + w\n",
        "result2 = u + (v + w)\n",
        "print(\"(u + v) + w =\", result1)\n",
        "print(\"u + (v + w) =\", result2)\n",
        "print(\"Associativity holds:\", np.array_equal(result1, result2))\n",
        "print()\n",
        "\n",
        "# A4: Commutativity of vector addition\n",
        "# v + w = w + v\n",
        "result1 = v + w\n",
        "result2 = w + v\n",
        "print(\"v + w =\", result1)\n",
        "print(\"w + v =\", result2)\n",
        "print(\"Commutativity holds:\", np.array_equal(result1, result2))\n",
        "print()\n",
        "\n",
        "# M1: Distributivity of scalar multiplication over vector addition\n",
        "# k(v + w) = kv + kw\n",
        "result1 = k * (v + w)\n",
        "result2 = k * v + k * w\n",
        "print(f\"{k}(v + w) =\", result1)\n",
        "print(f\"{k}v + {k}w =\", result2)\n",
        "print(\"Distributivity holds:\", np.array_equal(result1, result2))\n",
        "print()\n"
      ],
      "metadata": {
        "colab": {
          "base_uri": "https://localhost:8080/"
        },
        "id": "A9JGDDbmm9zn",
        "outputId": "7fc0d649-bcf5-47b8-aa13-5a41eaf36009"
      },
      "execution_count": 2,
      "outputs": [
        {
          "output_type": "stream",
          "name": "stdout",
          "text": [
            "Verifying some vector space axioms:\n",
            "(u + v) + w = [12 15 18]\n",
            "u + (v + w) = [12 15 18]\n",
            "Associativity holds: True\n",
            "\n",
            "v + w = [5 7 9]\n",
            "w + v = [5 7 9]\n",
            "Commutativity holds: True\n",
            "\n",
            "2(v + w) = [10 14 18]\n",
            "2v + 2w = [10 14 18]\n",
            "Distributivity holds: True\n",
            "\n"
          ]
        }
      ]
    },
    {
      "cell_type": "code",
      "source": [
        "\n",
        "# ---- PART 3: VISUALIZATION OF VECTOR OPERATIONS ----\n",
        "\n",
        "# Let's visualize vectors in R^2 (2-dimensional)\n",
        "v_2d = np.array([2, 1])\n",
        "w_2d = np.array([1, 2])\n",
        "sum_2d = v_2d + w_2d\n",
        "k_times_v_2d = k * v_2d\n",
        "\n",
        "# Create a figure\n",
        "plt.figure(figsize=(10, 6))\n",
        "plt.axhline(y=0, color='k', linestyle='-', alpha=0.3)  # x-axis\n",
        "plt.axvline(x=0, color='k', linestyle='-', alpha=0.3)  # y-axis\n",
        "\n",
        "# Plot vectors as arrows\n",
        "plt.arrow(0, 0, v_2d[0], v_2d[1], head_width=0.2, head_length=0.2, fc='blue', ec='blue', label='v = (2, 1)')\n",
        "plt.arrow(0, 0, w_2d[0], w_2d[1], head_width=0.2, head_length=0.2, fc='red', ec='red', label='w = (1, 2)')\n",
        "plt.arrow(0, 0, sum_2d[0], sum_2d[1], head_width=0.2, head_length=0.2, fc='green', ec='green', label='v + w = (3, 3)')\n",
        "plt.arrow(0, 0, k_times_v_2d[0], k_times_v_2d[1], head_width=0.2, head_length=0.2, fc='purple', ec='purple', label=f'{k}v = (4, 2)')\n",
        "\n",
        "# Plot the parallelogram for vector addition\n",
        "plt.arrow(v_2d[0], v_2d[1], w_2d[0], w_2d[1], head_width=0.2, head_length=0.2, fc='green', ec='green', linestyle='dashed')\n",
        "plt.arrow(w_2d[0], w_2d[1], v_2d[0], v_2d[1], head_width=0.2, head_length=0.2, fc='green', ec='green', linestyle='dashed')\n",
        "\n",
        "# Set plot properties\n",
        "plt.grid(True, alpha=0.3)\n",
        "plt.axis('equal')\n",
        "plt.xlim(-1, 5)\n",
        "plt.ylim(-1, 5)\n",
        "plt.title('Vector Operations in R²')\n",
        "plt.legend()\n",
        "plt.show()\n"
      ],
      "metadata": {
        "colab": {
          "base_uri": "https://localhost:8080/",
          "height": 563
        },
        "id": "DYWOV2vAnGjZ",
        "outputId": "3609ab36-329f-4d17-c036-3a3cb4d86131"
      },
      "execution_count": 3,
      "outputs": [
        {
          "output_type": "stream",
          "name": "stderr",
          "text": [
            "WARNING:matplotlib.axes._base:Ignoring fixed y limits to fulfill fixed data aspect with adjustable data limits.\n"
          ]
        },
        {
          "output_type": "display_data",
          "data": {
            "text/plain": [
              "<Figure size 1000x600 with 1 Axes>"
            ],
            "image/png": "[encoded data removed]"
          },
          "metadata": {}
        }
      ]
    },
    {
      "cell_type": "code",
      "source": [
        "\n",
        "# ---- PART 4: EXAMINING A SPECIFIC VECTOR SPACE ----\n",
        "\n",
        "# Let's look at the vector space of 2×2 matrices\n",
        "# We'll use NumPy arrays to represent matrices\n",
        "A = np.array([[1, 2], [3, 4]])\n",
        "B = np.array([[5, 6], [7, 8]])\n",
        "print(\"Matrix A =\\n\", A)\n",
        "print(\"Matrix B =\\n\", B)\n",
        "print()\n",
        "\n",
        "# Matrix addition\n",
        "C = A + B\n",
        "print(\"Matrix addition (A + B) =\\n\", C)\n",
        "print()\n",
        "\n",
        "# Scalar multiplication\n",
        "k_times_A = k * A\n",
        "print(f\"Scalar multiplication ({k} * A) =\\n\", k_times_A)\n",
        "print()\n",
        "\n",
        "# Zero matrix (additive identity)\n",
        "zero_matrix = np.zeros((2, 2))\n",
        "print(\"Zero matrix =\\n\", zero_matrix)\n",
        "print(\"A + zero_matrix =\\n\", A + zero_matrix)\n",
        "print()\n",
        "\n",
        "# ---- EXERCISES FOR STUDENTS ----\n",
        "\n",
        "# 1. Create two new 3D vectors and verify the associativity of scalar multiplication:\n",
        "#    (ab)v = a(bv) where a and b are scalars and v is a vector\n",
        "\n",
        "# 2. Create a 3×3 matrix and verify that the scalar identity axiom holds:\n",
        "#    1A = A where 1 is the multiplicative identity in the field of scalars\n",
        "\n",
        "# 3. Create two vectors in R^4 and verify that the additive inverse axiom holds:\n",
        "#    v + (-v) = 0 where 0 is the zero vector\n",
        "\n",
        "# 4. Create two 2×3 matrices and verify that matrix addition is commutative"
      ],
      "metadata": {
        "colab": {
          "base_uri": "https://localhost:8080/"
        },
        "id": "yJLqbC73nLjs",
        "outputId": "3f1dbf5a-753f-4ab8-87c7-5ceaa8d5de77"
      },
      "execution_count": 4,
      "outputs": [
        {
          "output_type": "stream",
          "name": "stdout",
          "text": [
            "Matrix A =\n",
            " [[1 2]\n",
            " [3 4]]\n",
            "Matrix B =\n",
            " [[5 6]\n",
            " [7 8]]\n",
            "\n",
            "Matrix addition (A + B) =\n",
            " [[ 6  8]\n",
            " [10 12]]\n",
            "\n",
            "Scalar multiplication (2 * A) =\n",
            " [[2 4]\n",
            " [6 8]]\n",
            "\n",
            "Zero matrix =\n",
            " [[0. 0.]\n",
            " [0. 0.]]\n",
            "A + zero_matrix =\n",
            " [[1. 2.]\n",
            " [3. 4.]]\n",
            "\n"
          ]
        }
      ]
    }
  ]
}