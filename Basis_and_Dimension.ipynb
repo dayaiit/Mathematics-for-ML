{
  "nbformat": 4,
  "nbformat_minor": 0,
  "metadata": {
    "colab": {
      "provenance": [],
      "authorship_tag": "ABX9TyOjWneqY5XZhArG4iuud1US",
      "include_colab_link": true
    },
    "kernelspec": {
      "name": "python3",
      "display_name": "Python 3"
    },
    "language_info": {
      "name": "python"
    }
  },
  "cells": [
    {
      "cell_type": "markdown",
      "metadata": {
        "id": "view-in-github",
        "colab_type": "text"
      },
      "source": [
        "<a href=\"https://colab.research.google.com/github/dayaiit/Mathematics-for-ML/blob/main/Basis_and_Dimension.ipynb\" target=\"_parent\"><img src=\"https://colab.research.google.com/assets/colab-badge.svg\" alt=\"Open In Colab\"/></a>"
      ]
    },
    {
      "cell_type": "code",
      "execution_count": 1,
      "metadata": {
        "colab": {
          "base_uri": "https://localhost:8080/"
        },
        "id": "gAlaa_R4wUo7",
        "outputId": "cdc6d501-5770-4d19-e0ba-be4799ae19b4"
      },
      "outputs": [
        {
          "output_type": "stream",
          "name": "stdout",
          "text": [
            "Determinant for R^3 vectors: 0.0\n",
            "They do NOT form a basis.\n"
          ]
        }
      ],
      "source": [
        "import numpy as np\n",
        "\n",
        "# Example 1: Check if vectors in R^3 form a basis\n",
        "vectors_r3 = np.array([[1, 4, 7],\n",
        "                      [2, 5, 8],\n",
        "                      [3, 6, 9]])\n",
        "\n",
        "det = np.linalg.det(vectors_r3)\n",
        "print(\"Determinant for R^3 vectors:\", det)\n",
        "if det != 0:\n",
        "    print(\"They form a basis! Dimension = 3\")\n",
        "else:\n",
        "    print(\"They do NOT form a basis.\")"
      ]
    },
    {
      "cell_type": "code",
      "source": [
        "# Example 2: Check if polynomials form a basis for P_2\n",
        "vectors_p2 = np.array([[1, 1, 0],\n",
        "                       [0, 1, 1],\n",
        "                       [1, 0, 1]])\n",
        "\n",
        "det_poly = np.linalg.det(vectors_p2)\n",
        "print(\"\\nDeterminant for polynomial vectors:\", det_poly)\n",
        "if det_poly != 0:\n",
        "    print(\"They form a basis! Dimension = 3\")\n",
        "else:\n",
        "    print(\"They do NOT form a basis.\")"
      ],
      "metadata": {
        "colab": {
          "base_uri": "https://localhost:8080/"
        },
        "id": "fil56piewX7J",
        "outputId": "f17b5aa5-ca2a-4e55-e819-74a6404b4747"
      },
      "execution_count": 2,
      "outputs": [
        {
          "output_type": "stream",
          "name": "stdout",
          "text": [
            "\n",
            "Determinant for polynomial vectors: 2.0\n",
            "They form a basis! Dimension = 3\n"
          ]
        }
      ]
    }
  ]
}