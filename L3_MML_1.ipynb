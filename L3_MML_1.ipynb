{
  "nbformat": 4,
  "nbformat_minor": 0,
  "metadata": {
    "colab": {
      "provenance": [],
      "authorship_tag": "ABX9TyP8viSl1RXlZP/2oCJIcpEm",
      "include_colab_link": true
    },
    "kernelspec": {
      "name": "python3",
      "display_name": "Python 3"
    },
    "language_info": {
      "name": "python"
    }
  },
  "cells": [
    {
      "cell_type": "markdown",
      "metadata": {
        "id": "view-in-github",
        "colab_type": "text"
      },
      "source": [
        "<a href=\"https://colab.research.google.com/github/dayaiit/test/blob/main/L3_MML_1.ipynb\" target=\"_parent\"><img src=\"https://colab.research.google.com/assets/colab-badge.svg\" alt=\"Open In Colab\"/></a>"
      ]
    },
    {
      "cell_type": "code",
      "execution_count": 1,
      "metadata": {
        "colab": {
          "base_uri": "https://localhost:8080/"
        },
        "id": "Q2WzzTgUgVun",
        "outputId": "8b3fe0ef-4f0f-45e6-fd1e-f3e4a5e58885"
      },
      "outputs": [
        {
          "output_type": "stream",
          "name": "stdout",
          "text": [
            "Creating vectors:\n",
            "Vector x = [1 2 3]\n",
            "Vector y = [4 5 6]\n",
            "\n"
          ]
        }
      ],
      "source": [
        "# Example 1: Basic Vector Operations using NumPy\n",
        "# This example demonstrates fundamental vector operations covered in class\n",
        "\n",
        "import numpy as np\n",
        "import matplotlib.pyplot as plt\n",
        "\n",
        "# 1. Creating vectors\n",
        "# We can create vectors as NumPy arrays\n",
        "print(\"Creating vectors:\")\n",
        "x = np.array([1, 2, 3])\n",
        "y = np.array([4, 5, 6])\n",
        "print(\"Vector x =\", x)\n",
        "print(\"Vector y =\", y)\n",
        "print()\n"
      ]
    },
    {
      "cell_type": "code",
      "source": [
        "\n",
        "# 2. Vector addition\n",
        "# Adding vectors is done component-wise\n",
        "print(\"Vector Addition:\")\n",
        "z = x + y\n",
        "print(\"x + y =\", z)\n",
        "print()\n"
      ],
      "metadata": {
        "colab": {
          "base_uri": "https://localhost:8080/"
        },
        "id": "aZ9J7P_OhDmf",
        "outputId": "e51fd120-7c5f-4718-8369-27ed78d74ce3"
      },
      "execution_count": 2,
      "outputs": [
        {
          "output_type": "stream",
          "name": "stdout",
          "text": [
            "Vector Addition:\n",
            "x + y = [5 7 9]\n",
            "\n"
          ]
        }
      ]
    },
    {
      "cell_type": "code",
      "source": [
        "\n",
        "# 3. Scalar multiplication\n",
        "# Multiplying a vector by a scalar (number)\n",
        "print(\"Scalar Multiplication:\")\n",
        "scalar = 2\n",
        "scaled_x = scalar * x\n",
        "print(f\"{scalar} * x =\", scaled_x)\n",
        "print()\n"
      ],
      "metadata": {
        "colab": {
          "base_uri": "https://localhost:8080/"
        },
        "id": "JqEFCnWNhIiV",
        "outputId": "dcb8c45b-d83b-4d14-8727-a4244badd0ee"
      },
      "execution_count": 3,
      "outputs": [
        {
          "output_type": "stream",
          "name": "stdout",
          "text": [
            "Scalar Multiplication:\n",
            "2 * x = [2 4 6]\n",
            "\n"
          ]
        }
      ]
    },
    {
      "cell_type": "code",
      "source": [
        "\n",
        "# 4. Dot product\n",
        "# The dot product gives a scalar value\n",
        "print(\"Dot Product:\")\n",
        "dot_product = np.dot(x, y)\n",
        "# We can also use the @ operator: dot_product = x @ y\n",
        "print(\"x · y =\", dot_product)\n",
        "print(\"Which equals:\", x[0]*y[0] + x[1]*y[1] + x[2]*y[2])\n",
        "print()\n"
      ],
      "metadata": {
        "colab": {
          "base_uri": "https://localhost:8080/"
        },
        "id": "HaeEiRBfhNb1",
        "outputId": "b8627c1a-506c-4bb0-8963-ea65f97fd5fe"
      },
      "execution_count": 4,
      "outputs": [
        {
          "output_type": "stream",
          "name": "stdout",
          "text": [
            "Dot Product:\n",
            "x · y = 32\n",
            "Which equals: 32\n",
            "\n"
          ]
        }
      ]
    },
    {
      "cell_type": "code",
      "source": [
        "\n",
        "# 5. Vector magnitude (length)\n",
        "# The magnitude or length of a vector\n",
        "print(\"Vector Magnitude:\")\n",
        "magnitude_x = np.linalg.norm(x)\n",
        "print(\"|x| =\", magnitude_x)\n",
        "print(\"Which equals the square root of:\", x[0]**2 + x[1]**2 + x[2]**2)\n",
        "print()\n"
      ],
      "metadata": {
        "colab": {
          "base_uri": "https://localhost:8080/"
        },
        "id": "R5w6wBlxhSNg",
        "outputId": "30c95bdb-51ba-4332-e0fb-22008dde0df5"
      },
      "execution_count": 5,
      "outputs": [
        {
          "output_type": "stream",
          "name": "stdout",
          "text": [
            "Vector Magnitude:\n",
            "|x| = 3.7416573867739413\n",
            "Which equals the square root of: 14\n",
            "\n"
          ]
        }
      ]
    },
    {
      "cell_type": "code",
      "source": [
        "\n",
        "# 6. Vector normalization\n",
        "# Creating a unit vector (vector with length 1) in the same direction\n",
        "print(\"Vector Normalization:\")\n",
        "unit_x = x / np.linalg.norm(x)\n",
        "print(\"Unit vector of x =\", unit_x)\n",
        "print(\"Length of unit vector:\", np.linalg.norm(unit_x))\n",
        "print()\n"
      ],
      "metadata": {
        "colab": {
          "base_uri": "https://localhost:8080/"
        },
        "id": "tKCiK73phWBZ",
        "outputId": "6500e6d8-f12b-4c4b-8323-5df3f4e1fedc"
      },
      "execution_count": 6,
      "outputs": [
        {
          "output_type": "stream",
          "name": "stdout",
          "text": [
            "Vector Normalization:\n",
            "Unit vector of x = [0.26726124 0.53452248 0.80178373]\n",
            "Length of unit vector: 1.0\n",
            "\n"
          ]
        }
      ]
    },
    {
      "cell_type": "code",
      "source": [
        "\n",
        "# 7. Visualizing 2D vectors\n",
        "# Let's create 2D vectors for visualization\n",
        "a = np.array([3, 1])\n",
        "b = np.array([1, 2])\n",
        "\n",
        "# Create a figure and axis\n",
        "plt.figure(figsize=(10, 6))\n",
        "plt.axhline(y=0, color='k', linestyle='-', alpha=0.3)\n",
        "plt.axvline(x=0, color='k', linestyle='-', alpha=0.3)\n",
        "\n",
        "# Plot vectors using arrows\n",
        "plt.arrow(0, 0, a[0], a[1], head_width=0.2, head_length=0.2, fc='blue', ec='blue', label='Vector a')\n",
        "plt.arrow(0, 0, b[0], b[1], head_width=0.2, head_length=0.2, fc='red', ec='red', label='Vector b')\n",
        "\n",
        "# Plot the sum of the vectors\n",
        "sum_vec = a + b\n",
        "plt.arrow(0, 0, sum_vec[0], sum_vec[1], head_width=0.2, head_length=0.2, fc='green', ec='green', label='a + b')\n",
        "\n",
        "# Plot the vector addition using the parallelogram method\n",
        "plt.arrow(a[0], a[1], b[0], b[1], head_width=0.2, head_length=0.2, fc='green', ec='green', linestyle='dashed')\n",
        "\n",
        "# Set plot properties\n",
        "plt.grid(True, alpha=0.3)\n",
        "plt.axis('equal')\n",
        "plt.xlim(-1, 5)\n",
        "plt.ylim(-1, 4)\n",
        "plt.title('Vector Operations Visualization')\n",
        "plt.legend()\n",
        "plt.show()\n",
        "\n",
        "# EXERCISES FOR STUDENTS:\n",
        "# 1. Create two new vectors of your choice and compute their dot product\n",
        "# 2. Create a 3D vector and calculate its magnitude\n",
        "# 3. Create two vectors and visualize their difference (a - b)\n",
        "# 4. Find a vector that is perpendicular to [1, 2]\n"
      ],
      "metadata": {
        "colab": {
          "base_uri": "https://localhost:8080/",
          "height": 563
        },
        "id": "11WpgWTFhZlg",
        "outputId": "7082b464-09ed-4ca8-a5c8-1f28b75c7f7c"
      },
      "execution_count": 7,
      "outputs": [
        {
          "output_type": "stream",
          "name": "stderr",
          "text": [
            "WARNING:matplotlib.axes._base:Ignoring fixed y limits to fulfill fixed data aspect with adjustable data limits.\n"
          ]
        },
        {
          "output_type": "display_data",
          "data": {
            "text/plain": [
              "<Figure size 1000x600 with 1 Axes>"
            ],
            "image/png": "[encoded data removed]"
          },
          "metadata": {}
        }
      ]
    }
  ]
}